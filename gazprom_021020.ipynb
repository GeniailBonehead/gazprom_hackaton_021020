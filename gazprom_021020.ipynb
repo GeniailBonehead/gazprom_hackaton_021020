{
 "cells": [
  {
   "cell_type": "code",
   "execution_count": 2,
   "metadata": {},
   "outputs": [],
   "source": [
    "import json\n",
    "import numpy as np\n",
    "import pandas as pd"
   ]
  },
  {
   "cell_type": "code",
   "execution_count": 2,
   "metadata": {},
   "outputs": [],
   "source": [
    "dat = pd.read_csv(\"/home/vitt/Документы/data/gazprom/Moskow.csv\", sep='\\t')"
   ]
  },
  {
   "cell_type": "code",
   "execution_count": 3,
   "metadata": {},
   "outputs": [
    {
     "data": {
      "text/html": [
       "<div>\n",
       "<style scoped>\n",
       "    .dataframe tbody tr th:only-of-type {\n",
       "        vertical-align: middle;\n",
       "    }\n",
       "\n",
       "    .dataframe tbody tr th {\n",
       "        vertical-align: top;\n",
       "    }\n",
       "\n",
       "    .dataframe thead th {\n",
       "        text-align: right;\n",
       "    }\n",
       "</style>\n",
       "<table border=\"1\" class=\"dataframe\">\n",
       "  <thead>\n",
       "    <tr style=\"text-align: right;\">\n",
       "      <th></th>\n",
       "      <th>ID</th>\n",
       "      <th>Широта</th>\n",
       "      <th>\\Долгота</th>\n",
       "      <th>Регион</th>\n",
       "      <th>Тип региона</th>\n",
       "      <th>\\Тип области</th>\n",
       "      <th>Область</th>\n",
       "      <th>Полный адрес</th>\n",
       "      <th>Размещение</th>\n",
       "    </tr>\n",
       "  </thead>\n",
       "  <tbody>\n",
       "    <tr>\n",
       "      <th>0</th>\n",
       "      <td>529360</td>\n",
       "      <td>55.655923</td>\n",
       "      <td>37.541505</td>\n",
       "      <td>Москва</td>\n",
       "      <td>г</td>\n",
       "      <td>г</td>\n",
       "      <td>Москва</td>\n",
       "      <td>г. Москва, ул. Профсоюзная, д. 61, корп. А</td>\n",
       "      <td>ТЦ \"Калужский\", входная группа (1 этаж)</td>\n",
       "    </tr>\n",
       "    <tr>\n",
       "      <th>1</th>\n",
       "      <td>529366</td>\n",
       "      <td>55.670133</td>\n",
       "      <td>37.552418</td>\n",
       "      <td>Москва</td>\n",
       "      <td>г</td>\n",
       "      <td>г</td>\n",
       "      <td>Москва</td>\n",
       "      <td>г. Москва, ул. Профсоюзная, д. 56</td>\n",
       "      <td>Бизнес Центр «Cherry Tower» (1 этаж)</td>\n",
       "    </tr>\n",
       "    <tr>\n",
       "      <th>2</th>\n",
       "      <td>529368</td>\n",
       "      <td>55.783686</td>\n",
       "      <td>37.560107</td>\n",
       "      <td>Москва</td>\n",
       "      <td>г</td>\n",
       "      <td>г</td>\n",
       "      <td>Москва</td>\n",
       "      <td>г. Москва, Ленинградский просп., д. 31А, стр. 1</td>\n",
       "      <td>Бизнес Центр «МонАрх», около лифта к магазину ...</td>\n",
       "    </tr>\n",
       "    <tr>\n",
       "      <th>3</th>\n",
       "      <td>529372</td>\n",
       "      <td>55.619560</td>\n",
       "      <td>37.464870</td>\n",
       "      <td>Москва</td>\n",
       "      <td>г</td>\n",
       "      <td>п</td>\n",
       "      <td>Мосрентген</td>\n",
       "      <td>Москва г., п. Мосрентген, Ленинский район, пос...</td>\n",
       "      <td>ООО ПП \"Автострой\"</td>\n",
       "    </tr>\n",
       "    <tr>\n",
       "      <th>4</th>\n",
       "      <td>529376</td>\n",
       "      <td>55.746765</td>\n",
       "      <td>37.626585</td>\n",
       "      <td>Москва</td>\n",
       "      <td>г</td>\n",
       "      <td>г</td>\n",
       "      <td>Москва</td>\n",
       "      <td>г. Москва, ул. Балчуг, д. 7</td>\n",
       "      <td>Д/О № 099/1009 Банка ГПБ (АО) \"Балчуг\" (1 этаж...</td>\n",
       "    </tr>\n",
       "  </tbody>\n",
       "</table>\n",
       "</div>"
      ],
      "text/plain": [
       "       ID     Широта   \\Долгота  Регион Тип региона \\Тип области     Область  \\\n",
       "0  529360  55.655923  37.541505  Москва           г            г      Москва   \n",
       "1  529366  55.670133  37.552418  Москва           г            г      Москва   \n",
       "2  529368  55.783686  37.560107  Москва           г            г      Москва   \n",
       "3  529372  55.619560  37.464870  Москва           г            п  Мосрентген   \n",
       "4  529376  55.746765  37.626585  Москва           г            г      Москва   \n",
       "\n",
       "                                        Полный адрес  \\\n",
       "0         г. Москва, ул. Профсоюзная, д. 61, корп. А   \n",
       "1                  г. Москва, ул. Профсоюзная, д. 56   \n",
       "2    г. Москва, Ленинградский просп., д. 31А, стр. 1   \n",
       "3  Москва г., п. Мосрентген, Ленинский район, пос...   \n",
       "4                        г. Москва, ул. Балчуг, д. 7   \n",
       "\n",
       "                                          Размещение  \n",
       "0            ТЦ \"Калужский\", входная группа (1 этаж)  \n",
       "1               Бизнес Центр «Cherry Tower» (1 этаж)  \n",
       "2  Бизнес Центр «МонАрх», около лифта к магазину ...  \n",
       "3                                 ООО ПП \"Автострой\"  \n",
       "4  Д/О № 099/1009 Банка ГПБ (АО) \"Балчуг\" (1 этаж...  "
      ]
     },
     "execution_count": 3,
     "metadata": {},
     "output_type": "execute_result"
    }
   ],
   "source": [
    "dat.head()"
   ]
  },
  {
   "cell_type": "code",
   "execution_count": 4,
   "metadata": {},
   "outputs": [
    {
     "name": "stdout",
     "output_type": "stream",
     "text": [
      "55.146749\n",
      "56.010063\n",
      "37.044717\n",
      "37.844541\n"
     ]
    }
   ],
   "source": [
    "print(dat[\"Широта\"].min())\n",
    "print(dat[\"Широта\"].max())\n",
    "print(dat[\"\\Долгота\"].min())\n",
    "print(dat[\"\\Долгота\"].max())"
   ]
  },
  {
   "cell_type": "code",
   "execution_count": 5,
   "metadata": {},
   "outputs": [
    {
     "name": "stdout",
     "output_type": "stream",
     "text": [
      "<class 'pandas.core.frame.DataFrame'>\n",
      "RangeIndex: 265 entries, 0 to 264\n",
      "Data columns (total 9 columns):\n",
      " #   Column        Non-Null Count  Dtype  \n",
      "---  ------        --------------  -----  \n",
      " 0   ID            265 non-null    int64  \n",
      " 1   Широта        265 non-null    float64\n",
      " 2   \\Долгота      265 non-null    float64\n",
      " 3   Регион        265 non-null    object \n",
      " 4   Тип региона   265 non-null    object \n",
      " 5   \\Тип области  265 non-null    object \n",
      " 6   Область       265 non-null    object \n",
      " 7   Полный адрес  265 non-null    object \n",
      " 8   Размещение    265 non-null    object \n",
      "dtypes: float64(2), int64(1), object(6)\n",
      "memory usage: 18.8+ KB\n"
     ]
    }
   ],
   "source": [
    "dat.info()"
   ]
  },
  {
   "cell_type": "code",
   "execution_count": 6,
   "metadata": {},
   "outputs": [],
   "source": [
    "dat = dat[dat[\"Область\"] == \"Москва\"]\n",
    "dat[\"lat\"] = dat[\"Широта\"]\n",
    "dat[\"long\"] = dat[\"\\Долгота\"]\n",
    "dat = dat.drop([\"\\Долгота\", \"Широта\"], axis=1)"
   ]
  },
  {
   "cell_type": "code",
   "execution_count": 7,
   "metadata": {},
   "outputs": [
    {
     "data": {
      "text/html": [
       "<div>\n",
       "<style scoped>\n",
       "    .dataframe tbody tr th:only-of-type {\n",
       "        vertical-align: middle;\n",
       "    }\n",
       "\n",
       "    .dataframe tbody tr th {\n",
       "        vertical-align: top;\n",
       "    }\n",
       "\n",
       "    .dataframe thead th {\n",
       "        text-align: right;\n",
       "    }\n",
       "</style>\n",
       "<table border=\"1\" class=\"dataframe\">\n",
       "  <thead>\n",
       "    <tr style=\"text-align: right;\">\n",
       "      <th></th>\n",
       "      <th>ID</th>\n",
       "      <th>Регион</th>\n",
       "      <th>Тип региона</th>\n",
       "      <th>\\Тип области</th>\n",
       "      <th>Область</th>\n",
       "      <th>Полный адрес</th>\n",
       "      <th>Размещение</th>\n",
       "      <th>lat</th>\n",
       "      <th>long</th>\n",
       "    </tr>\n",
       "  </thead>\n",
       "  <tbody>\n",
       "    <tr>\n",
       "      <th>0</th>\n",
       "      <td>529360</td>\n",
       "      <td>Москва</td>\n",
       "      <td>г</td>\n",
       "      <td>г</td>\n",
       "      <td>Москва</td>\n",
       "      <td>г. Москва, ул. Профсоюзная, д. 61, корп. А</td>\n",
       "      <td>ТЦ \"Калужский\", входная группа (1 этаж)</td>\n",
       "      <td>55.655923</td>\n",
       "      <td>37.541505</td>\n",
       "    </tr>\n",
       "    <tr>\n",
       "      <th>1</th>\n",
       "      <td>529366</td>\n",
       "      <td>Москва</td>\n",
       "      <td>г</td>\n",
       "      <td>г</td>\n",
       "      <td>Москва</td>\n",
       "      <td>г. Москва, ул. Профсоюзная, д. 56</td>\n",
       "      <td>Бизнес Центр «Cherry Tower» (1 этаж)</td>\n",
       "      <td>55.670133</td>\n",
       "      <td>37.552418</td>\n",
       "    </tr>\n",
       "    <tr>\n",
       "      <th>2</th>\n",
       "      <td>529368</td>\n",
       "      <td>Москва</td>\n",
       "      <td>г</td>\n",
       "      <td>г</td>\n",
       "      <td>Москва</td>\n",
       "      <td>г. Москва, Ленинградский просп., д. 31А, стр. 1</td>\n",
       "      <td>Бизнес Центр «МонАрх», около лифта к магазину ...</td>\n",
       "      <td>55.783686</td>\n",
       "      <td>37.560107</td>\n",
       "    </tr>\n",
       "    <tr>\n",
       "      <th>4</th>\n",
       "      <td>529376</td>\n",
       "      <td>Москва</td>\n",
       "      <td>г</td>\n",
       "      <td>г</td>\n",
       "      <td>Москва</td>\n",
       "      <td>г. Москва, ул. Балчуг, д. 7</td>\n",
       "      <td>Д/О № 099/1009 Банка ГПБ (АО) \"Балчуг\" (1 этаж...</td>\n",
       "      <td>55.746765</td>\n",
       "      <td>37.626585</td>\n",
       "    </tr>\n",
       "    <tr>\n",
       "      <th>5</th>\n",
       "      <td>529380</td>\n",
       "      <td>Москва</td>\n",
       "      <td>г</td>\n",
       "      <td>г</td>\n",
       "      <td>Москва</td>\n",
       "      <td>г. Москва, Каширское ш., д. 61, стр. 3А, корп. 1</td>\n",
       "      <td>АТЦ \"Москва\"</td>\n",
       "      <td>55.617276</td>\n",
       "      <td>37.715622</td>\n",
       "    </tr>\n",
       "  </tbody>\n",
       "</table>\n",
       "</div>"
      ],
      "text/plain": [
       "       ID  Регион Тип региона \\Тип области Область  \\\n",
       "0  529360  Москва           г            г  Москва   \n",
       "1  529366  Москва           г            г  Москва   \n",
       "2  529368  Москва           г            г  Москва   \n",
       "4  529376  Москва           г            г  Москва   \n",
       "5  529380  Москва           г            г  Москва   \n",
       "\n",
       "                                       Полный адрес  \\\n",
       "0        г. Москва, ул. Профсоюзная, д. 61, корп. А   \n",
       "1                 г. Москва, ул. Профсоюзная, д. 56   \n",
       "2   г. Москва, Ленинградский просп., д. 31А, стр. 1   \n",
       "4                       г. Москва, ул. Балчуг, д. 7   \n",
       "5  г. Москва, Каширское ш., д. 61, стр. 3А, корп. 1   \n",
       "\n",
       "                                          Размещение        lat       long  \n",
       "0            ТЦ \"Калужский\", входная группа (1 этаж)  55.655923  37.541505  \n",
       "1               Бизнес Центр «Cherry Tower» (1 этаж)  55.670133  37.552418  \n",
       "2  Бизнес Центр «МонАрх», около лифта к магазину ...  55.783686  37.560107  \n",
       "4  Д/О № 099/1009 Банка ГПБ (АО) \"Балчуг\" (1 этаж...  55.746765  37.626585  \n",
       "5                                       АТЦ \"Москва\"  55.617276  37.715622  "
      ]
     },
     "execution_count": 7,
     "metadata": {},
     "output_type": "execute_result"
    }
   ],
   "source": [
    "dat.head()"
   ]
  },
  {
   "cell_type": "code",
   "execution_count": 8,
   "metadata": {},
   "outputs": [],
   "source": [
    "open_data = pd.read_csv(\"/home/vitt/Документы/data/torgovl_stat.csv\")"
   ]
  },
  {
   "cell_type": "code",
   "execution_count": 9,
   "metadata": {},
   "outputs": [],
   "source": [
    "types = []\n",
    "lats = []\n",
    "longs = []\n",
    "for line in open_data.geoData:\n",
    "    typ = line.split(\", \")[0].split('=')[1]\n",
    "    lat = line.split(\", \")[1].split('[')[1]\n",
    "    long = line.split(\", \")[2].split(']')[0]\n",
    "    types.append(typ)\n",
    "    lats.append(lat)\n",
    "    longs.append(long)\n"
   ]
  },
  {
   "cell_type": "code",
   "execution_count": 10,
   "metadata": {},
   "outputs": [],
   "source": [
    "open_df = pd.DataFrame({'types':types,\n",
    "                       'lat':lats,\n",
    "                       'long':longs})"
   ]
  },
  {
   "cell_type": "code",
   "execution_count": 11,
   "metadata": {},
   "outputs": [],
   "source": [
    "open_df = open_df.astype({'lat': 'float64', 'long': 'float64'})"
   ]
  },
  {
   "cell_type": "code",
   "execution_count": 12,
   "metadata": {},
   "outputs": [
    {
     "name": "stdout",
     "output_type": "stream",
     "text": [
      "36.849210000000014\n",
      "37.947174\n",
      "55.21321260362444\n",
      "56.01441183329691\n"
     ]
    }
   ],
   "source": [
    "print(open_df.lat.min())\n",
    "print(open_df.lat.max())\n",
    "print(open_df.long.min())\n",
    "print(open_df.long.max())"
   ]
  },
  {
   "cell_type": "code",
   "execution_count": 11,
   "metadata": {},
   "outputs": [
    {
     "name": "stdout",
     "output_type": "stream",
     "text": [
      "Using matplotlib backend: GTK3Agg\n"
     ]
    }
   ],
   "source": [
    "import matplotlib.pyplot as plt\n",
    "%matplotlib"
   ]
  },
  {
   "cell_type": "code",
   "execution_count": 14,
   "metadata": {},
   "outputs": [],
   "source": [
    "open_df[\"lat_int\"] = np.round(open_df[\"lat\"],2)\n",
    "open_df[\"long_int\"] = np.round(open_df[\"long\"],2)"
   ]
  },
  {
   "cell_type": "code",
   "execution_count": 15,
   "metadata": {},
   "outputs": [
    {
     "data": {
      "text/html": [
       "<div>\n",
       "<style scoped>\n",
       "    .dataframe tbody tr th:only-of-type {\n",
       "        vertical-align: middle;\n",
       "    }\n",
       "\n",
       "    .dataframe tbody tr th {\n",
       "        vertical-align: top;\n",
       "    }\n",
       "\n",
       "    .dataframe thead th {\n",
       "        text-align: right;\n",
       "    }\n",
       "</style>\n",
       "<table border=\"1\" class=\"dataframe\">\n",
       "  <thead>\n",
       "    <tr style=\"text-align: right;\">\n",
       "      <th></th>\n",
       "      <th>types</th>\n",
       "      <th>lat</th>\n",
       "      <th>long</th>\n",
       "      <th>lat_int</th>\n",
       "      <th>long_int</th>\n",
       "    </tr>\n",
       "  </thead>\n",
       "  <tbody>\n",
       "    <tr>\n",
       "      <th>0</th>\n",
       "      <td>Point</td>\n",
       "      <td>37.564782</td>\n",
       "      <td>55.783361</td>\n",
       "      <td>37.56</td>\n",
       "      <td>55.78</td>\n",
       "    </tr>\n",
       "    <tr>\n",
       "      <th>1</th>\n",
       "      <td>Point</td>\n",
       "      <td>37.594849</td>\n",
       "      <td>55.786559</td>\n",
       "      <td>37.59</td>\n",
       "      <td>55.79</td>\n",
       "    </tr>\n",
       "    <tr>\n",
       "      <th>2</th>\n",
       "      <td>Point</td>\n",
       "      <td>37.749819</td>\n",
       "      <td>55.647955</td>\n",
       "      <td>37.75</td>\n",
       "      <td>55.65</td>\n",
       "    </tr>\n",
       "    <tr>\n",
       "      <th>3</th>\n",
       "      <td>Point</td>\n",
       "      <td>37.578783</td>\n",
       "      <td>55.780188</td>\n",
       "      <td>37.58</td>\n",
       "      <td>55.78</td>\n",
       "    </tr>\n",
       "    <tr>\n",
       "      <th>4</th>\n",
       "      <td>Point</td>\n",
       "      <td>37.678140</td>\n",
       "      <td>55.752482</td>\n",
       "      <td>37.68</td>\n",
       "      <td>55.75</td>\n",
       "    </tr>\n",
       "  </tbody>\n",
       "</table>\n",
       "</div>"
      ],
      "text/plain": [
       "   types        lat       long  lat_int  long_int\n",
       "0  Point  37.564782  55.783361    37.56     55.78\n",
       "1  Point  37.594849  55.786559    37.59     55.79\n",
       "2  Point  37.749819  55.647955    37.75     55.65\n",
       "3  Point  37.578783  55.780188    37.58     55.78\n",
       "4  Point  37.678140  55.752482    37.68     55.75"
      ]
     },
     "execution_count": 15,
     "metadata": {},
     "output_type": "execute_result"
    }
   ],
   "source": [
    "open_df.head()"
   ]
  },
  {
   "cell_type": "code",
   "execution_count": 16,
   "metadata": {},
   "outputs": [
    {
     "data": {
      "text/plain": [
       "<matplotlib.collections.PathCollection at 0x7f5d64942b50>"
      ]
     },
     "execution_count": 16,
     "metadata": {},
     "output_type": "execute_result"
    }
   ],
   "source": [
    "# plt.scatter(open_df.lat_int.unique()[:77], open_df.long_int.unique())\n",
    "# plt.scatter(dat.long, dat.lat)"
   ]
  },
  {
   "cell_type": "code",
   "execution_count": 17,
   "metadata": {},
   "outputs": [],
   "source": [
    "from sklearn.cluster import KMeans"
   ]
  },
  {
   "cell_type": "code",
   "execution_count": 30,
   "metadata": {},
   "outputs": [
    {
     "data": {
      "text/plain": [
       "KMeans(n_clusters=253)"
      ]
     },
     "execution_count": 30,
     "metadata": {},
     "output_type": "execute_result"
    }
   ],
   "source": [
    "kmeans = KMeans(n_clusters=253)\n",
    "kmeans.fit(open_df[[\"lat\",\"long\"]])"
   ]
  },
  {
   "cell_type": "code",
   "execution_count": 31,
   "metadata": {},
   "outputs": [],
   "source": [
    "y_means = kmeans.predict(open_df[[\"lat\",\"long\"]])"
   ]
  },
  {
   "cell_type": "code",
   "execution_count": 32,
   "metadata": {},
   "outputs": [
    {
     "data": {
      "text/plain": [
       "<matplotlib.collections.PathCollection at 0x7f5d2c7ee3a0>"
      ]
     },
     "execution_count": 32,
     "metadata": {},
     "output_type": "execute_result"
    }
   ],
   "source": [
    "centers = kmeans.cluster_centers_\n",
    "plt.scatter(centers[:, 0], centers[:, 1], c='black', s=200)"
   ]
  },
  {
   "cell_type": "code",
   "execution_count": 36,
   "metadata": {},
   "outputs": [
    {
     "data": {
      "text/plain": [
       "<matplotlib.collections.PathCollection at 0x7f5d0ef5e520>"
      ]
     },
     "execution_count": 36,
     "metadata": {},
     "output_type": "execute_result"
    }
   ],
   "source": [
    "plt.scatter(open_df.lat, open_df.long, s=5)\n",
    "plt.scatter(centers[:, 0], centers[:, 1], c='black', s=20)\n",
    "plt.scatter(dat.long, dat.lat, c='red', s=10)"
   ]
  },
  {
   "cell_type": "code",
   "execution_count": 31,
   "metadata": {},
   "outputs": [
    {
     "data": {
      "text/plain": [
       "array([0, 1, 2, 3, 4, 5, 6, 7, 8, 9])"
      ]
     },
     "execution_count": 31,
     "metadata": {},
     "output_type": "execute_result"
    }
   ],
   "source": [
    "x = np.arange(0,10)\n",
    "x"
   ]
  },
  {
   "cell_type": "code",
   "execution_count": 32,
   "metadata": {},
   "outputs": [
    {
     "data": {
      "text/plain": [
       "array([ 0.,  2.,  4.,  6.,  8., 10., 12., 14., 16., 18.])"
      ]
     },
     "execution_count": 32,
     "metadata": {},
     "output_type": "execute_result"
    }
   ],
   "source": [
    "lamb = x*200*0.01\n",
    "lamb"
   ]
  },
  {
   "cell_type": "code",
   "execution_count": 42,
   "metadata": {},
   "outputs": [
    {
     "data": {
      "text/plain": [
       "array([0.00000000e+00, 9.02235222e-02, 1.95366815e-01, 1.33852618e-01,\n",
       "       5.72522885e-02, 1.89166374e-02, 5.30859947e-03, 1.33100030e-03,\n",
       "       3.07296050e-04, 6.66159314e-05])"
      ]
     },
     "execution_count": 42,
     "metadata": {},
     "output_type": "execute_result"
    }
   ],
   "source": [
    "base = 4\n",
    "y_2 = np.exp(-lamb)*lamb**base/(np.math.factorial(base))\n",
    "# y_2 = lamb**base/(np.math.factorial(base))\n",
    "y_2"
   ]
  },
  {
   "cell_type": "code",
   "execution_count": 43,
   "metadata": {},
   "outputs": [
    {
     "data": {
      "text/plain": [
       "[<matplotlib.lines.Line2D at 0x7f9d7ad2dbb0>]"
      ]
     },
     "execution_count": 43,
     "metadata": {},
     "output_type": "execute_result"
    }
   ],
   "source": [
    "plt.plot(x, y_2)"
   ]
  },
  {
   "cell_type": "code",
   "execution_count": null,
   "metadata": {},
   "outputs": [],
   "source": []
  }
 ],
 "metadata": {
  "kernelspec": {
   "display_name": "Python 3",
   "language": "python",
   "name": "python3"
  },
  "language_info": {
   "codemirror_mode": {
    "name": "ipython",
    "version": 3
   },
   "file_extension": ".py",
   "mimetype": "text/x-python",
   "name": "python",
   "nbconvert_exporter": "python",
   "pygments_lexer": "ipython3",
   "version": "3.8.2"
  }
 },
 "nbformat": 4,
 "nbformat_minor": 4
}
